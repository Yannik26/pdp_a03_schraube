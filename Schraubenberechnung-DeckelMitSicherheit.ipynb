{
 "cells": [
  {
   "cell_type": "code",
   "execution_count": 408,
   "id": "14e4e53e",
   "metadata": {},
   "outputs": [],
   "source": [
    "import csv\n",
    "import matplotlib.pyplot as plt\n",
    "import numpy as np\n"
   ]
  },
  {
   "cell_type": "markdown",
   "id": "ac66344e",
   "metadata": {},
   "source": [
    "# CSV einlesen"
   ]
  },
  {
   "cell_type": "code",
   "execution_count": 446,
   "id": "02bbf795",
   "metadata": {},
   "outputs": [
    {
     "name": "stdout",
     "output_type": "stream",
     "text": [
      "Processed 19002 lines.\n"
     ]
    }
   ],
   "source": [
    "with open('https://raw.githubusercontent.com/Yannik26/pdp_a03_schraube/65eca527162368976a202a23feae909dea3934b1/KraefteFederDaempferSpule.csv') as csv_file:\n",
    "    csv_reader = csv.reader(csv_file, delimiter=',')\n",
    "    line_count = 0\n",
    "    Fts=np.array([])\n",
    "    Fk=np.array([])\n",
    "    Fd=np.array([])\n",
    "    time=np.array([])\n",
    "    for row in csv_reader:\n",
    "        if line_count == 0:\n",
    "            names=row\n",
    "            line_count += 1\n",
    "        else:\n",
    "            Fts=np.append(Fts,float(row[3]))\n",
    "            Fk=np.append(Fk,float(row[1]))\n",
    "            time=np.append(time,float(row[0]))\n",
    "            Fd=np.append(Fd,float(row[2]))\n",
    "            line_count += 1\n",
    "    print(f'Processed {line_count} lines.')\n",
    "Fk/=3\n",
    "Fd/=3\n",
    "Fges=Fk+Fd\n"
   ]
  },
  {
   "cell_type": "markdown",
   "id": "2a04986c",
   "metadata": {},
   "source": [
    "# Sicherheitsfaktor"
   ]
  },
  {
   "cell_type": "code",
   "execution_count": 410,
   "id": "051dca7e",
   "metadata": {},
   "outputs": [],
   "source": [
    "Smin=5"
   ]
  },
  {
   "cell_type": "code",
   "execution_count": 411,
   "id": "d8e7e8a9",
   "metadata": {},
   "outputs": [
    {
     "data": {
      "image/png": "[encoded data removed]",
      "text/plain": [
       "<Figure size 432x288 with 1 Axes>"
      ]
     },
     "metadata": {
      "needs_background": "light"
     },
     "output_type": "display_data"
    }
   ],
   "source": [
    "fig,ax= plt.subplots()\n",
    "ax.plot(time,Fges,linewidth=2, label='Fges')\n",
    "ax.plot(time,Fd,label='Fd')\n",
    "ax.plot(time,Fk,label='Fk')\n",
    "plt.show()"
   ]
  },
  {
   "cell_type": "markdown",
   "id": "1abdd8ae",
   "metadata": {},
   "source": [
    "# Belastungsanalyse\n",
    "## Maximale Kraft auf Schrauben im Flansch"
   ]
  },
  {
   "cell_type": "code",
   "execution_count": 412,
   "id": "c0a126f4",
   "metadata": {
    "scrolled": false
   },
   "outputs": [
    {
     "name": "stdout",
     "output_type": "stream",
     "text": [
      "Maximaler Wert: -4123.798180368143 N\n",
      "Minimaler Wert: -15566.97064153368 N\n",
      "Fa_flansch: -15566.97064153368 N\n"
     ]
    }
   ],
   "source": [
    "Fmax=Fges.max()\n",
    "Fmin=Fges.min()\n",
    "print(f'Maximaler Wert: {Fmax} N')\n",
    "print(f'Minimaler Wert: {Fmin} N')\n",
    "\n",
    "if abs(Fmax)>=abs(Fmin):\n",
    "    Fa_flansch=Fmax\n",
    "else:\n",
    "    Fa_flansch=Fmin\n",
    "print(f'Fa_flansch: {Fa_flansch} N')"
   ]
  },
  {
   "cell_type": "markdown",
   "id": "d901a7d6",
   "metadata": {},
   "source": [
    "## Zugbelastung pro Schraube"
   ]
  },
  {
   "cell_type": "code",
   "execution_count": 413,
   "id": "fd82bfc8",
   "metadata": {},
   "outputs": [
    {
     "name": "stdout",
     "output_type": "stream",
     "text": [
      "Kraft pro Schraube: 2594.4951069222802 N\n",
      "Maximale Kraft mit Sicherheit:12972.475534611402\n"
     ]
    }
   ],
   "source": [
    "N=6  #Anzahl der Schrauben pro Flansch\n",
    "Fa=np.abs(Fa_flansch/N)\n",
    "print(f'Kraft pro Schraube: {Fa} N')\n",
    "print(f'Maximale Kraft mit Sicherheit:{Fa * Smin}')"
   ]
  },
  {
   "cell_type": "markdown",
   "id": "90a38e14",
   "metadata": {},
   "source": [
    "# Vorauslegung\n",
    "Fm_min und Fm_max aus Tabelle aus VDI 2230"
   ]
  },
  {
   "cell_type": "code",
   "execution_count": 414,
   "id": "57b74a9c",
   "metadata": {},
   "outputs": [],
   "source": [
    "X=12    #Erster Anteil der Festigkeitsangabe X.Y\n",
    "Y=9     #Zweiter Anteil der Festigkeitsangabe X.Y\n",
    "Fm_min=40000\n",
    "Fm_max=63000\n",
    "RmS=X*100\n",
    "Rp02S=RmS*Y/10"
   ]
  },
  {
   "cell_type": "markdown",
   "id": "5e9a64e3",
   "metadata": {},
   "source": [
    "## Gewindedaten"
   ]
  },
  {
   "cell_type": "code",
   "execution_count": 415,
   "id": "8bde6b09",
   "metadata": {},
   "outputs": [],
   "source": [
    "# Toleranzen: Mutter 6g, Schraube 6H  --> Standard\n",
    "d=12\n",
    "d_min=11.701\n",
    "s=8    #Schlüsselweite\n",
    "P=1.75\n",
    "d1=9.853\n",
    "d1_min=9.602\n",
    "d2=10.863\n",
    "d2_min=10.679\n",
    "d3=9.583   # Kerndurchmesser\n",
    "RmM=1100\n",
    "D1=10.106\n",
    "D1_min=10.106\n",
    "D1_max=10.441\n",
    "D2=10.863\n",
    "D2_max=11.036\n",
    "As=np.pi*((d1+d2)/4)**2\n",
    "beta_M=0.65       #Scherspannungsfaktor\n",
    "beta_S=0.6        # VDI 2230 Blatt 1 Tabelle 7 Seite 104\n",
    "tau_bM=720\n",
    "tau_bS=RmS*beta_S\n",
    "\n",
    "dw=18      # Außendurchmesser Kopfauflagefläche\n",
    "dh=13.5     #Mittlerer Bohrungsdurchmesser \"Durchgangsbohrung für metrische Schrauben\"\n",
    "s=18             # Schlüsselweite in mm"
   ]
  },
  {
   "cell_type": "markdown",
   "id": "9f37db04",
   "metadata": {},
   "source": [
    "## Festigkeitsverhältnis"
   ]
  },
  {
   "cell_type": "code",
   "execution_count": 416,
   "id": "ec44ec99",
   "metadata": {},
   "outputs": [
    {
     "name": "stdout",
     "output_type": "stream",
     "text": [
      "Rs=1.2704678364801452\n",
      "Das Außengewinde ist kritisch\n"
     ]
    }
   ],
   "source": [
    "Rs=(RmM/RmS)*( ( d*( P/2+( d-D2 )* np.tan(np.radians(30))))  /  (D1*(P/2+(d2-D1)*np.tan(np.radians(30)))) )\n",
    "print(f'Rs={Rs}')\n",
    "if Rs>=1:\n",
    "    print('Das Außengewinde ist kritisch')\n",
    "elif Rs<1:\n",
    "    print('Das Innengewinde ist kritisch')\n",
    "\n",
    "        "
   ]
  },
  {
   "cell_type": "markdown",
   "id": "fe3672c8",
   "metadata": {},
   "source": [
    "## Korrekturfaktoren"
   ]
  },
  {
   "cell_type": "code",
   "execution_count": 417,
   "id": "a032d7bf",
   "metadata": {
    "scrolled": true
   },
   "outputs": [
    {
     "name": "stdout",
     "output_type": "stream",
     "text": [
      "C1=1\n",
      "C2=0.9973536576658124\n",
      "C3=0.897\n"
     ]
    }
   ],
   "source": [
    "C1=1\n",
    "\n",
    "if 1<Rs<2.2:\n",
    "    C2=5.594-13.682*Rs+14.107*Rs**2-6.057*Rs**3+0.9353*Rs**4 \n",
    "elif Rs>=2.2:\n",
    "    C2=1.187\n",
    "        \n",
    "\n",
    "if 0.4<Rs<1:\n",
    "    C3=0.728+1.769*Rs-2.896*Rs**2+1.296*Rs**3\n",
    "elif Rs<=0.4:\n",
    "    Rs=0.4\n",
    "    C3=0.728+1.769*Rs-2.896*Rs**2+1.296*Rs**3\n",
    "elif Rs>=1:\n",
    "    C3=0.897\n",
    "\n",
    "        \n",
    "\n",
    "print(f'C1={C1}') \n",
    "print(f'C2={C2}') \n",
    "print(f'C3={C3}')"
   ]
  },
  {
   "cell_type": "code",
   "execution_count": 418,
   "id": "696bb3c0",
   "metadata": {},
   "outputs": [
    {
     "name": "stdout",
     "output_type": "stream",
     "text": [
      "m_ges=10.60206628432158 mm\n"
     ]
    }
   ],
   "source": [
    "if  Rs>=1:\n",
    "    m_ges=(1.2*RmM*As*P)/((C1*C2*tau_bS*(P/2+(d2_min-D1_max)*np.tan(np.radians(30))))*np.pi*d)+2*P\n",
    "elif Rs<1:\n",
    "    m_ges=(1.2*RmS*As*P)/((C1*C3*tau_bM*(P/2+(d_min-D2_max)*np.tan(np.radians(30))))*np.pi*d)+2*P\n",
    "print(f'm_ges={m_ges} mm')"
   ]
  },
  {
   "cell_type": "code",
   "execution_count": 419,
   "id": "55860bb3",
   "metadata": {},
   "outputs": [
    {
     "name": "stdout",
     "output_type": "stream",
     "text": [
      "lmin=20.60206628432158 mm\n"
     ]
    }
   ],
   "source": [
    "lk=10\n",
    "lmin=m_ges+lk\n",
    "print(f'lmin={lmin} mm')\n",
    "l=26"
   ]
  },
  {
   "cell_type": "markdown",
   "id": "eaa0dee2",
   "metadata": {},
   "source": [
    "# Nachgiebigkeiten und Kraftverhältnisse\n",
    "## Ersatzfläche"
   ]
  },
  {
   "cell_type": "code",
   "execution_count": 420,
   "id": "12d565e0",
   "metadata": {},
   "outputs": [
    {
     "name": "stdout",
     "output_type": "stream",
     "text": [
      "Aers=3025.2740553360436 mm^2\n"
     ]
    }
   ],
   "source": [
    "\n",
    "DA=2*s\n",
    "\n",
    "Ep=205000  # E-Modul Platte\n",
    "Es=210000  # E-Modul Schraube\n",
    "\n",
    "if DA<=dw:\n",
    "    Aers=np.pi/4*(DA**2-dh**2)\n",
    "elif dw<DA<=dw+lk:\n",
    "    x=(lk/DA)**0.2\n",
    "    Aers=np.pi/4*(dw**2-dh**2)+np.pi/8*dw*(DA-dw)*((x+1)**2-1)\n",
    "elif DA>dw+lk:\n",
    "    x=(lk/(dw+lk))**0.2\n",
    "    Aers=np.pi/4*(dw**2-dh**2)+np.pi/8*dw*lk*(DA-dw)*((x+1)**2-1)\n",
    "    \n",
    "print(f'Aers={Aers} mm^2')"
   ]
  },
  {
   "cell_type": "markdown",
   "id": "a21fe035",
   "metadata": {},
   "source": [
    "## Nachgiebigkeit Platte"
   ]
  },
  {
   "cell_type": "code",
   "execution_count": 421,
   "id": "d3c410c9",
   "metadata": {},
   "outputs": [
    {
     "name": "stdout",
     "output_type": "stream",
     "text": [
      "Nachgiebigkeit der Platte: delta_p=1.612432028061655e-08\n"
     ]
    }
   ],
   "source": [
    "delta_p=lk/(Aers*Ep)\n",
    "print(f'Nachgiebigkeit der Platte: delta_p={delta_p}')"
   ]
  },
  {
   "cell_type": "markdown",
   "id": "205c4bd1",
   "metadata": {},
   "source": [
    "## Nachgiebigkeit Schraube"
   ]
  },
  {
   "cell_type": "code",
   "execution_count": 422,
   "id": "6df9dee6",
   "metadata": {},
   "outputs": [
    {
     "name": "stdout",
     "output_type": "stream",
     "text": [
      "delta_s=1.4797773049879634e-06\n"
     ]
    }
   ],
   "source": [
    "l1=0     #Nur Gewinde auf Schraube, da zu kurz für Schaft\n",
    "l3=lk-l1\n",
    "lG=l-lk\n",
    "d1_schaft=10\n",
    "delta_SK=(0.5*d)/(np.pi/4*d**2*Es)\n",
    "delta_1=l1/(np.pi/4*d1_schaft**2*Es)\n",
    "delta_3=l3/(np.pi/4*d3**2*Es)\n",
    "delta_G=(0.5*d)/(np.pi/4*d3**2*Es)\n",
    "delta_m=(0.33*d)/(np.pi/4*d**2*Ep)\n",
    "delta_s=delta_SK+delta_1+delta_3+delta_G+delta_m\n",
    "print(f'delta_s={delta_s}')"
   ]
  },
  {
   "cell_type": "markdown",
   "id": "b2ec0228",
   "metadata": {},
   "source": [
    "## Krafteinleitungsfaktor"
   ]
  },
  {
   "cell_type": "code",
   "execution_count": 423,
   "id": "cd05a92b",
   "metadata": {},
   "outputs": [],
   "source": [
    "n=0.3"
   ]
  },
  {
   "cell_type": "markdown",
   "id": "fe4639fa",
   "metadata": {},
   "source": [
    "## Kraftverhältnisse\n",
    "### Vorspannkraftverlust infolge Setzens 𝑭_z"
   ]
  },
  {
   "cell_type": "code",
   "execution_count": 424,
   "id": "63b60858",
   "metadata": {},
   "outputs": [
    {
     "name": "stdout",
     "output_type": "stream",
     "text": [
      "Fz=5682.1918342884865 N\n"
     ]
    }
   ],
   "source": [
    "fz=(3+2.5+2*1.5)*10**-3     # in mm\n",
    "Fz=fz/(delta_s+delta_p)\n",
    "print(f'Fz={Fz} N')"
   ]
  },
  {
   "cell_type": "markdown",
   "id": "203fd344",
   "metadata": {},
   "source": [
    "### Nachgiebigkeitsverhältnis"
   ]
  },
  {
   "cell_type": "code",
   "execution_count": 425,
   "id": "81bf6428",
   "metadata": {},
   "outputs": [
    {
     "name": "stdout",
     "output_type": "stream",
     "text": [
      "phi=0.010778997768467247\n"
     ]
    }
   ],
   "source": [
    "phi=delta_p/(delta_s+delta_p)\n",
    "print(f'phi={phi}')"
   ]
  },
  {
   "cell_type": "markdown",
   "id": "0059e83b",
   "metadata": {},
   "source": [
    "### Schraubenzusatzkraft"
   ]
  },
  {
   "cell_type": "code",
   "execution_count": 426,
   "id": "4467037c",
   "metadata": {},
   "outputs": [
    {
     "name": "stdout",
     "output_type": "stream",
     "text": [
      "Fa=2594.4951069222802 N\n",
      "FSA=8.389817090344334 N\n"
     ]
    }
   ],
   "source": [
    "FSA=Fa*n*phi\n",
    "print(f'Fa={Fa} N')\n",
    "print(f'FSA={FSA} N')"
   ]
  },
  {
   "cell_type": "markdown",
   "id": "0aefe08d",
   "metadata": {},
   "source": [
    "### Hülsenentlastungskraft"
   ]
  },
  {
   "cell_type": "code",
   "execution_count": 427,
   "id": "099b5e4f",
   "metadata": {},
   "outputs": [
    {
     "name": "stdout",
     "output_type": "stream",
     "text": [
      "FPA=2586.105289831936 N\n"
     ]
    }
   ],
   "source": [
    "FPA=Fa*(1-n*phi)\n",
    "print(f'FPA={FPA} N')"
   ]
  },
  {
   "cell_type": "markdown",
   "id": "b20eda8d",
   "metadata": {},
   "source": [
    "### Min. Montagevorspannkraft"
   ]
  },
  {
   "cell_type": "code",
   "execution_count": 428,
   "id": "eea243da",
   "metadata": {},
   "outputs": [
    {
     "name": "stdout",
     "output_type": "stream",
     "text": [
      "FMmin=8268.297124120421 N\n"
     ]
    }
   ],
   "source": [
    "Fkerf=0\n",
    "FMmin=Fkerf+FPA+Fz\n",
    "print(f'FMmin={FMmin} N')"
   ]
  },
  {
   "cell_type": "markdown",
   "id": "6c05b1ef",
   "metadata": {},
   "source": [
    "### Vorspannkraft nach dem Setzen"
   ]
  },
  {
   "cell_type": "code",
   "execution_count": 429,
   "id": "81f078a2",
   "metadata": {},
   "outputs": [
    {
     "name": "stdout",
     "output_type": "stream",
     "text": [
      "Fv=2586.105289831935 N\n"
     ]
    }
   ],
   "source": [
    "Fv=FMmin-Fz\n",
    "print(f'Fv={Fv} N')"
   ]
  },
  {
   "cell_type": "markdown",
   "id": "510feb10",
   "metadata": {},
   "source": [
    "## Verspannungsdiagramm nach Rötscher\n",
    "### Schraubenlängung fsm durch FMmin"
   ]
  },
  {
   "cell_type": "code",
   "execution_count": 430,
   "id": "8182e9b7",
   "metadata": {},
   "outputs": [
    {
     "name": "stdout",
     "output_type": "stream",
     "text": [
      "fsm=0.012235238435170645 mm\n",
      "FMmin=8268.297124120421 N\n"
     ]
    }
   ],
   "source": [
    "fsm=delta_s*FMmin\n",
    "print(f'fsm={fsm} mm')\n",
    "print(f'FMmin={FMmin} N')"
   ]
  },
  {
   "cell_type": "markdown",
   "id": "1449fdfc",
   "metadata": {},
   "source": [
    "### Plattenverkürzung fpm durch FMmin"
   ]
  },
  {
   "cell_type": "code",
   "execution_count": 431,
   "id": "b65c04a2",
   "metadata": {},
   "outputs": [
    {
     "name": "stdout",
     "output_type": "stream",
     "text": [
      "fpm=0.0001333206710046184 mm\n"
     ]
    }
   ],
   "source": [
    "fpm=delta_p*FMmin\n",
    "print(f'fpm={fpm} mm')"
   ]
  },
  {
   "cell_type": "markdown",
   "id": "b9f2db27",
   "metadata": {},
   "source": [
    "### Schraubenlängung fs durch Fv"
   ]
  },
  {
   "cell_type": "code",
   "execution_count": 432,
   "id": "98b241bf",
   "metadata": {},
   "outputs": [
    {
     "name": "stdout",
     "output_type": "stream",
     "text": [
      "fs=0.0038268599162026165 mm\n"
     ]
    }
   ],
   "source": [
    "fs=delta_s*Fv\n",
    "print(f'fs={fs} mm')"
   ]
  },
  {
   "cell_type": "markdown",
   "id": "0975d0dd",
   "metadata": {},
   "source": [
    "### Plattenverkürzung fp durch Fv"
   ]
  },
  {
   "cell_type": "code",
   "execution_count": 433,
   "id": "7d29282d",
   "metadata": {},
   "outputs": [
    {
     "name": "stdout",
     "output_type": "stream",
     "text": [
      "fp=4.1699189972646814e-05 mm\n"
     ]
    }
   ],
   "source": [
    "fp=delta_p*Fv\n",
    "\n",
    "print(f'fp={fp} mm')"
   ]
  },
  {
   "cell_type": "markdown",
   "id": "9f3185b3",
   "metadata": {},
   "source": [
    "### Schraubenlängung dfs durch Fa"
   ]
  },
  {
   "cell_type": "code",
   "execution_count": 434,
   "id": "f35d8478",
   "metadata": {},
   "outputs": [
    {
     "name": "stdout",
     "output_type": "stream",
     "text": [
      "dfs=1.2415060923291694e-05\n"
     ]
    }
   ],
   "source": [
    "dfs=delta_s*FSA\n",
    "print(f'dfs={dfs}')"
   ]
  },
  {
   "cell_type": "markdown",
   "id": "c5656265",
   "metadata": {},
   "source": [
    "### Plattenverkürzung dfp durch Fa"
   ]
  },
  {
   "cell_type": "code",
   "execution_count": 435,
   "id": "3cb9c4f9",
   "metadata": {},
   "outputs": [
    {
     "name": "stdout",
     "output_type": "stream",
     "text": [
      "dfp=4.169918997264683e-05\n"
     ]
    }
   ],
   "source": [
    "dfp=delta_p*FPA\n",
    "print(f'dfp={dfp}')"
   ]
  },
  {
   "cell_type": "markdown",
   "id": "b98a5c6b",
   "metadata": {},
   "source": [
    "# Wirkende Montagebeanspruchung\n",
    "## Maximale Montagevorspannkraft"
   ]
  },
  {
   "cell_type": "code",
   "execution_count": 436,
   "id": "50b16825",
   "metadata": {},
   "outputs": [
    {
     "name": "stdout",
     "output_type": "stream",
     "text": [
      "FMmax=13229.275398592676 N\n"
     ]
    }
   ],
   "source": [
    "alpha_A=1.6        # Steifes Bauteil, wenige Versuche, Skript Seite 342 Tabelle 8.4\n",
    "FMmax=alpha_A*FMmin\n",
    "print(f'FMmax={FMmax} N')"
   ]
  },
  {
   "cell_type": "markdown",
   "id": "406b4d80",
   "metadata": {},
   "source": [
    "## Max. Vorspannkraft und Vergleichsspannung\n",
    "### Zugspannung"
   ]
  },
  {
   "cell_type": "code",
   "execution_count": 437,
   "id": "86b8a98a",
   "metadata": {},
   "outputs": [
    {
     "name": "stdout",
     "output_type": "stream",
     "text": [
      "Zugspannung sigma_zM=156.99808774507713 MPa\n"
     ]
    }
   ],
   "source": [
    "sigma_zM=FMmax/As\n",
    "print(f'Zugspannung sigma_zM={sigma_zM} MPa')"
   ]
  },
  {
   "cell_type": "markdown",
   "id": "43957514",
   "metadata": {},
   "source": [
    "### Torsionsspannung"
   ]
  },
  {
   "cell_type": "code",
   "execution_count": 438,
   "id": "d3cc9352",
   "metadata": {},
   "outputs": [
    {
     "name": "stdout",
     "output_type": "stream",
     "text": [
      "Torsionsspannung tau_M=3.908002866245148 MPa\n"
     ]
    }
   ],
   "source": [
    "my_g=0.12      #Reibungszahl im Gewinde\n",
    "ds=2*np.sqrt(As/np.pi)\n",
    "MG=FMmax*d2/2*(P/(np.pi*d2)+1.155*my_g)\n",
    "Wp=np.pi*ds**3\n",
    "tau_M=MG/Wp\n",
    "print(f'Torsionsspannung tau_M={tau_M} MPa')"
   ]
  },
  {
   "cell_type": "markdown",
   "id": "cd106653",
   "metadata": {},
   "source": [
    "### Gestaltänderungsenergiehypothese"
   ]
  },
  {
   "cell_type": "code",
   "execution_count": 439,
   "id": "cc9363e3",
   "metadata": {},
   "outputs": [
    {
     "name": "stdout",
     "output_type": "stream",
     "text": [
      "Vergleichsspannung nach GEH: sigma_vM=157.14393725123054 MPa\n"
     ]
    }
   ],
   "source": [
    "sigma_vM=np.sqrt(sigma_zM**2+3*tau_M**2)\n",
    "print(f'Vergleichsspannung nach GEH: sigma_vM={sigma_vM} MPa')"
   ]
  },
  {
   "cell_type": "markdown",
   "id": "fad6e626",
   "metadata": {},
   "source": [
    "# Zulässige Montagebeanspruchung\n",
    "## Zulässige Zugspannung"
   ]
  },
  {
   "cell_type": "code",
   "execution_count": 440,
   "id": "6a21fa2c",
   "metadata": {},
   "outputs": [
    {
     "name": "stdout",
     "output_type": "stream",
     "text": [
      "Die Schraube erträgt die Montagebeanspruchung unter den getroffenen Annahmen!\n",
      "0.16167071733665694\n",
      "Sicherheit: S=6.185412030538828\n"
     ]
    }
   ],
   "source": [
    "ny=0.9          # In Norm wird 0.9 verwendet\n",
    "sigma_vzul=ny*Rp02S\n",
    "if sigma_vM<sigma_vzul/Smin:\n",
    "    print('Die Schraube erträgt die Montagebeanspruchung unter den getroffenen Annahmen!')\n",
    "else:\n",
    "    print('Bitte Schraube neu auslegen!!!')\n",
    "\n",
    "print(sigma_vM/sigma_vzul)\n",
    "print(f'Sicherheit: S={sigma_vzul/sigma_vM}')"
   ]
  },
  {
   "cell_type": "markdown",
   "id": "9d2f135f",
   "metadata": {},
   "source": [
    "##  Maximal zulässige Montagevorspannkraft"
   ]
  },
  {
   "cell_type": "code",
   "execution_count": 444,
   "id": "33fcb2c5",
   "metadata": {},
   "outputs": [
    {
     "name": "stdout",
     "output_type": "stream",
     "text": [
      "Die Schraube erträgt die Montagebeanspruchung unter den getroffenen Annahmen!\n",
      "0.9060050787839661\n",
      "Sicherheit: S=5.518732860428295\n"
     ]
    }
   ],
   "source": [
    "#sigma_zzul=sigma_vzul/(Smin*np.sqrt(1+3*(2*d2/d1_min*(P/(np.pi*d2)+1.155*my_g))**2))\n",
    "sigma_zzul=Rp02S/(Smin*np.sqrt(1+3*(2*d2/d1_min*(P/(np.pi*d2)+1.155*my_g))**2))\n",
    "FMzul=sigma_zzul*As\n",
    "if FMmax<FMzul:\n",
    "    print('Die Schraube erträgt die Montagebeanspruchung unter den getroffenen Annahmen!')\n",
    "else:\n",
    "    print('Bitte Schraube neu auslegen!!!')\n",
    "print(FMmax/FMzul)\n",
    "print(f'Sicherheit: S={(FMzul*Smin)/FMmax}')"
   ]
  },
  {
   "cell_type": "markdown",
   "id": "b809792a",
   "metadata": {},
   "source": [
    "# Wirkende Betriebsbeanspruchungen\n",
    "## Max. Schraubenkraft und Vergleichsspannung"
   ]
  },
  {
   "cell_type": "code",
   "execution_count": 442,
   "id": "61c27dce",
   "metadata": {},
   "outputs": [
    {
     "name": "stdout",
     "output_type": "stream",
     "text": [
      "sigma_vB=157.1341056490851 MPa\n"
     ]
    }
   ],
   "source": [
    "kappa_tau=0.5\n",
    "FSmax=FMmax+FSA\n",
    "sigma_B=FSmax/As\n",
    "tau_B=kappa_tau*MG/Wp\n",
    "sigma_vB=np.sqrt(sigma_B**2+3*tau_B**2)\n",
    "print(f'sigma_vB={sigma_vB} MPa')"
   ]
  },
  {
   "cell_type": "markdown",
   "id": "b57948ae",
   "metadata": {},
   "source": [
    "# Zulässige Betriebsbeanspruchungen"
   ]
  },
  {
   "cell_type": "code",
   "execution_count": 443,
   "id": "f252528d",
   "metadata": {},
   "outputs": [
    {
     "name": "stdout",
     "output_type": "stream",
     "text": [
      "Die Schraube erträgt die angenommene Betriebsbeanspruchung\n",
      "Sicherheit S=6.873110045325722\n"
     ]
    }
   ],
   "source": [
    "if sigma_vB<Rp02S/Smin:\n",
    "    print('Die Schraube erträgt die angenommene Betriebsbeanspruchung')\n",
    "    print(f'Sicherheit S={Rp02S/sigma_vB}')"
   ]
  }
 ],
 "metadata": {
  "kernelspec": {
   "display_name": "Python 3",
   "language": "python",
   "name": "python3"
  },
  "language_info": {
   "codemirror_mode": {
    "name": "ipython",
    "version": 3
   },
   "file_extension": ".py",
   "mimetype": "text/x-python",
   "name": "python",
   "nbconvert_exporter": "python",
   "pygments_lexer": "ipython3",
   "version": "3.8.8"
  }
 },
 "nbformat": 4,
 "nbformat_minor": 5
}
