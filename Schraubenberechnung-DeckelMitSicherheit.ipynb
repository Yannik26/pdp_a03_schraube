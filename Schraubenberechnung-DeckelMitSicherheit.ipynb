{
  "nbformat": 4,
  "nbformat_minor": 5,
  "metadata": {
    "kernelspec": {
      "display_name": "Python 3",
      "language": "python",
      "name": "python3"
    },
    "language_info": {
      "codemirror_mode": {
        "name": "ipython",
        "version": 3
      },
      "file_extension": ".py",
      "mimetype": "text/x-python",
      "name": "python",
      "nbconvert_exporter": "python",
      "pygments_lexer": "ipython3",
      "version": "3.8.8"
    },
    "colab": {
      "name": "Schraubenberechnung-DeckelMitSicherheit.ipynb",
      "provenance": []
    }
  },
  "cells": [
    {
      "cell_type": "code",
      "metadata": {
        "id": "14e4e53e"
      },
      "source": [
        "import matplotlib.pyplot as plt\n",
        "import numpy as np\n",
        "import pandas as pd"
      ],
      "id": "14e4e53e",
      "execution_count": null,
      "outputs": []
    },
    {
      "cell_type": "markdown",
      "metadata": {
        "id": "ac66344e"
      },
      "source": [
        "# CSV einlesen"
      ],
      "id": "ac66344e"
    },
    {
      "cell_type": "code",
      "metadata": {
        "id": "02bbf795"
      },
      "source": [
        "data=pd.read_csv('https://raw.githubusercontent.com/Yannik26/pdp_a03_schraube/65eca527162368976a202a23feae909dea3934b1/KraefteFederDaempferSpule.csv')\n",
        "\n",
        "Fk=data.Fk_k/3\n",
        "Fd=data.Fd_k/3\n",
        "Fges=Fk+Fd\n"
      ],
      "id": "02bbf795",
      "execution_count": null,
      "outputs": []
    },
    {
      "cell_type": "markdown",
      "metadata": {
        "id": "2a04986c"
      },
      "source": [
        "# Sicherheitsfaktor"
      ],
      "id": "2a04986c"
    },
    {
      "cell_type": "code",
      "metadata": {
        "id": "051dca7e"
      },
      "source": [
        "Smin=4"
      ],
      "id": "051dca7e",
      "execution_count": null,
      "outputs": []
    },
    {
      "cell_type": "code",
      "metadata": {
        "id": "d8e7e8a9",
        "colab": {
          "base_uri": "https://localhost:8080/",
          "height": 265
        },
        "outputId": "2ba34c99-d45c-486f-cef0-87b2861154e6"
      },
      "source": [
        "fig,ax= plt.subplots()\n",
        "ax.plot(data.time,Fges,linewidth=2, label='Fges')\n",
        "ax.plot(data.time,Fd,label='Fd')\n",
        "ax.plot(data.time,Fk,label='Fk')\n",
        "plt.show()"
      ],
      "id": "d8e7e8a9",
      "execution_count": null,
      "outputs": [
        {
          "output_type": "display_data",
          "data": {
            "image/png": "[encoded data removed]",
            "text/plain": [
              "<Figure size 432x288 with 1 Axes>"
            ]
          },
          "metadata": {
            "needs_background": "light"
          }
        }
      ]
    },
    {
      "cell_type": "markdown",
      "metadata": {
        "id": "1abdd8ae"
      },
      "source": [
        "# Belastungsanalyse\n",
        "## Maximale Kraft auf Schrauben im Flansch"
      ],
      "id": "1abdd8ae"
    },
    {
      "cell_type": "code",
      "metadata": {
        "scrolled": false,
        "id": "c0a126f4",
        "colab": {
          "base_uri": "https://localhost:8080/"
        },
        "outputId": "c96b4f72-900e-4392-ff8f-0c2b56809407"
      },
      "source": [
        "Fmax=Fges.max()\n",
        "Fmin=Fges.min()\n",
        "print(f'Maximaler Wert: {Fmax} N')\n",
        "print(f'Minimaler Wert: {Fmin} N')\n",
        "\n",
        "if abs(Fmax)>=abs(Fmin):\n",
        "    Fa_flansch=Fmax\n",
        "else:\n",
        "    Fa_flansch=Fmin\n",
        "print(f'Fa_flansch: {Fa_flansch} N')"
      ],
      "id": "c0a126f4",
      "execution_count": null,
      "outputs": [
        {
          "output_type": "stream",
          "name": "stdout",
          "text": [
            "Maximaler Wert: -4123.798180368143 N\n",
            "Minimaler Wert: -15566.97064153368 N\n",
            "Fa_flansch: -15566.97064153368 N\n"
          ]
        }
      ]
    },
    {
      "cell_type": "markdown",
      "metadata": {
        "id": "d901a7d6"
      },
      "source": [
        "## Zugbelastung pro Schraube"
      ],
      "id": "d901a7d6"
    },
    {
      "cell_type": "code",
      "metadata": {
        "id": "fd82bfc8",
        "colab": {
          "base_uri": "https://localhost:8080/"
        },
        "outputId": "b278f2c8-eb75-41f7-abb4-f97df00fb120"
      },
      "source": [
        "N=6  #Anzahl der Schrauben pro Flansch\n",
        "Fa=np.abs(Fa_flansch/N)\n",
        "print(f'Kraft pro Schraube: {Fa} N')\n",
        "print(f'Maximale Kraft mit Sicherheit:{Fa * Smin}')"
      ],
      "id": "fd82bfc8",
      "execution_count": null,
      "outputs": [
        {
          "output_type": "stream",
          "name": "stdout",
          "text": [
            "Kraft pro Schraube: 2594.4951069222802 N\n",
            "Maximale Kraft mit Sicherheit:10377.980427689121\n"
          ]
        }
      ]
    },
    {
      "cell_type": "markdown",
      "metadata": {
        "id": "90a38e14"
      },
      "source": [
        "# Vorauslegung\n",
        "Fm_min und Fm_max aus Tabelle aus VDI 2230"
      ],
      "id": "90a38e14"
    },
    {
      "cell_type": "code",
      "metadata": {
        "id": "57b74a9c"
      },
      "source": [
        "X=12    #Erster Anteil der Festigkeitsangabe X.Y\n",
        "Y=9     #Zweiter Anteil der Festigkeitsangabe X.Y\n",
        "Fm_min=40000\n",
        "Fm_max=63000\n",
        "RmS=X*100\n",
        "Rp02S=RmS*Y/10"
      ],
      "id": "57b74a9c",
      "execution_count": null,
      "outputs": []
    },
    {
      "cell_type": "markdown",
      "metadata": {
        "id": "5e9a64e3"
      },
      "source": [
        "## Gewindedaten"
      ],
      "id": "5e9a64e3"
    },
    {
      "cell_type": "code",
      "metadata": {
        "id": "8bde6b09"
      },
      "source": [
        "# Toleranzen: Mutter 6g, Schraube 6H  --> Standard\n",
        "d=12\n",
        "d_min=11.701\n",
        "s=8    #Schlüsselweite\n",
        "P=1.75\n",
        "d1=9.853\n",
        "d1_min=9.602\n",
        "d2=10.863\n",
        "d2_min=10.679\n",
        "d3=9.583   # Kerndurchmesser\n",
        "RmM=1100\n",
        "D1=10.106\n",
        "D1_min=10.106\n",
        "D1_max=10.441\n",
        "D2=10.863\n",
        "D2_max=11.036\n",
        "As=np.pi*((d1+d2)/4)**2\n",
        "beta_M=0.65       #Scherspannungsfaktor\n",
        "beta_S=0.6        # VDI 2230 Blatt 1 Tabelle 7 Seite 104\n",
        "tau_bM=720\n",
        "tau_bS=RmS*beta_S\n",
        "\n",
        "dw=18      # Außendurchmesser Kopfauflagefläche\n",
        "dh=13.5     #Mittlerer Bohrungsdurchmesser \"Durchgangsbohrung für metrische Schrauben\"\n",
        "s=18             # Schlüsselweite in mm"
      ],
      "id": "8bde6b09",
      "execution_count": null,
      "outputs": []
    },
    {
      "cell_type": "markdown",
      "metadata": {
        "id": "9f37db04"
      },
      "source": [
        "## Festigkeitsverhältnis"
      ],
      "id": "9f37db04"
    },
    {
      "cell_type": "code",
      "metadata": {
        "id": "ec44ec99",
        "colab": {
          "base_uri": "https://localhost:8080/"
        },
        "outputId": "d6517895-4d46-454d-fa78-527b44d97bbf"
      },
      "source": [
        "Rs=(RmM/RmS)*( ( d*( P/2+( d-D2 )* np.tan(np.radians(30))))  /  (D1*(P/2+(d2-D1)*np.tan(np.radians(30)))) )\n",
        "print(f'Rs={Rs}')\n",
        "if Rs>=1:\n",
        "    print('Das Außengewinde ist kritisch')\n",
        "elif Rs<1:\n",
        "    print('Das Innengewinde ist kritisch')\n",
        "\n",
        "        "
      ],
      "id": "ec44ec99",
      "execution_count": null,
      "outputs": [
        {
          "output_type": "stream",
          "name": "stdout",
          "text": [
            "Rs=1.2704678364801452\n",
            "Das Außengewinde ist kritisch\n"
          ]
        }
      ]
    },
    {
      "cell_type": "markdown",
      "metadata": {
        "id": "fe3672c8"
      },
      "source": [
        "## Korrekturfaktoren"
      ],
      "id": "fe3672c8"
    },
    {
      "cell_type": "code",
      "metadata": {
        "scrolled": true,
        "id": "a032d7bf",
        "colab": {
          "base_uri": "https://localhost:8080/"
        },
        "outputId": "1e1ea7b3-0e6d-4313-f8b2-0b3af7592407"
      },
      "source": [
        "C1=1\n",
        "\n",
        "if 1<Rs<2.2:\n",
        "    C2=5.594-13.682*Rs+14.107*Rs**2-6.057*Rs**3+0.9353*Rs**4 \n",
        "elif Rs>=2.2:\n",
        "    C2=1.187\n",
        "        \n",
        "\n",
        "if 0.4<Rs<1:\n",
        "    C3=0.728+1.769*Rs-2.896*Rs**2+1.296*Rs**3\n",
        "elif Rs<=0.4:\n",
        "    Rs=0.4\n",
        "    C3=0.728+1.769*Rs-2.896*Rs**2+1.296*Rs**3\n",
        "elif Rs>=1:\n",
        "    C3=0.897\n",
        "\n",
        "        \n",
        "\n",
        "print(f'C1={C1}') \n",
        "print(f'C2={C2}') \n",
        "print(f'C3={C3}')"
      ],
      "id": "a032d7bf",
      "execution_count": null,
      "outputs": [
        {
          "output_type": "stream",
          "name": "stdout",
          "text": [
            "C1=1\n",
            "C2=0.9973536576658124\n",
            "C3=0.897\n"
          ]
        }
      ]
    },
    {
      "cell_type": "code",
      "metadata": {
        "id": "696bb3c0",
        "colab": {
          "base_uri": "https://localhost:8080/"
        },
        "outputId": "6ff5e354-7f25-4798-973a-ca85cc843ca3"
      },
      "source": [
        "if  Rs>=1:\n",
        "    m_ges=(1.2*RmM*As*P)/((C1*C2*tau_bS*(P/2+(d2_min-D1_max)*np.tan(np.radians(30))))*np.pi*d)+2*P\n",
        "elif Rs<1:\n",
        "    m_ges=(1.2*RmS*As*P)/((C1*C3*tau_bM*(P/2+(d_min-D2_max)*np.tan(np.radians(30))))*np.pi*d)+2*P\n",
        "print(f'm_ges={m_ges} mm')"
      ],
      "id": "696bb3c0",
      "execution_count": null,
      "outputs": [
        {
          "output_type": "stream",
          "name": "stdout",
          "text": [
            "m_ges=10.60206628432158 mm\n"
          ]
        }
      ]
    },
    {
      "cell_type": "code",
      "metadata": {
        "id": "55860bb3",
        "colab": {
          "base_uri": "https://localhost:8080/"
        },
        "outputId": "9228cf09-2979-4778-8c2a-6ec650189d84"
      },
      "source": [
        "lk=10\n",
        "lmin=m_ges+lk\n",
        "print(f'lmin={lmin} mm')\n",
        "l=26"
      ],
      "id": "55860bb3",
      "execution_count": null,
      "outputs": [
        {
          "output_type": "stream",
          "name": "stdout",
          "text": [
            "lmin=20.60206628432158 mm\n"
          ]
        }
      ]
    },
    {
      "cell_type": "markdown",
      "metadata": {
        "id": "eaa0dee2"
      },
      "source": [
        "# Nachgiebigkeiten und Kraftverhältnisse\n",
        "## Ersatzfläche"
      ],
      "id": "eaa0dee2"
    },
    {
      "cell_type": "code",
      "metadata": {
        "id": "12d565e0",
        "colab": {
          "base_uri": "https://localhost:8080/"
        },
        "outputId": "444cb2a5-2442-4ab3-9726-3d002ff6b173"
      },
      "source": [
        "\n",
        "DA=2*s\n",
        "\n",
        "Ep=205000  # E-Modul Platte\n",
        "Es=210000  # E-Modul Schraube\n",
        "\n",
        "if DA<=dw:\n",
        "    Aers=np.pi/4*(DA**2-dh**2)\n",
        "elif dw<DA<=dw+lk:\n",
        "    x=(lk/DA)**0.2\n",
        "    Aers=np.pi/4*(dw**2-dh**2)+np.pi/8*dw*(DA-dw)*((x+1)**2-1)\n",
        "elif DA>dw+lk:\n",
        "    x=(lk/(dw+lk))**0.2\n",
        "    Aers=np.pi/4*(dw**2-dh**2)+np.pi/8*dw*lk*(DA-dw)*((x+1)**2-1)\n",
        "    \n",
        "print(f'Aers={Aers} mm^2')"
      ],
      "id": "12d565e0",
      "execution_count": null,
      "outputs": [
        {
          "output_type": "stream",
          "name": "stdout",
          "text": [
            "Aers=3025.2740553360436 mm^2\n"
          ]
        }
      ]
    },
    {
      "cell_type": "markdown",
      "metadata": {
        "id": "a21fe035"
      },
      "source": [
        "## Nachgiebigkeit Platte"
      ],
      "id": "a21fe035"
    },
    {
      "cell_type": "code",
      "metadata": {
        "id": "d3c410c9",
        "colab": {
          "base_uri": "https://localhost:8080/"
        },
        "outputId": "6fda706d-fc3e-45cb-c278-afab7d719725"
      },
      "source": [
        "delta_p=lk/(Aers*Ep)\n",
        "print(f'Nachgiebigkeit der Platte: delta_p={delta_p}')"
      ],
      "id": "d3c410c9",
      "execution_count": null,
      "outputs": [
        {
          "output_type": "stream",
          "name": "stdout",
          "text": [
            "Nachgiebigkeit der Platte: delta_p=1.612432028061655e-08\n"
          ]
        }
      ]
    },
    {
      "cell_type": "markdown",
      "metadata": {
        "id": "205c4bd1"
      },
      "source": [
        "## Nachgiebigkeit Schraube"
      ],
      "id": "205c4bd1"
    },
    {
      "cell_type": "code",
      "metadata": {
        "id": "6df9dee6",
        "colab": {
          "base_uri": "https://localhost:8080/"
        },
        "outputId": "fcea1b34-c26e-473c-c44a-4d8d86b4c3a3"
      },
      "source": [
        "l1=0     #Nur Gewinde auf Schraube, da zu kurz für Schaft\n",
        "l3=lk-l1\n",
        "lG=l-lk\n",
        "d1_schaft=10\n",
        "delta_SK=(0.5*d)/(np.pi/4*d**2*Es)\n",
        "delta_1=l1/(np.pi/4*d1_schaft**2*Es)\n",
        "delta_3=l3/(np.pi/4*d3**2*Es)\n",
        "delta_G=(0.5*d)/(np.pi/4*d3**2*Es)\n",
        "delta_m=(0.33*d)/(np.pi/4*d**2*Ep)\n",
        "delta_s=delta_SK+delta_1+delta_3+delta_G+delta_m\n",
        "print(f'delta_s={delta_s}')"
      ],
      "id": "6df9dee6",
      "execution_count": null,
      "outputs": [
        {
          "output_type": "stream",
          "name": "stdout",
          "text": [
            "delta_s=1.4797773049879634e-06\n"
          ]
        }
      ]
    },
    {
      "cell_type": "markdown",
      "metadata": {
        "id": "b2ec0228"
      },
      "source": [
        "## Krafteinleitungsfaktor"
      ],
      "id": "b2ec0228"
    },
    {
      "cell_type": "code",
      "metadata": {
        "id": "cd05a92b"
      },
      "source": [
        "n=0.3"
      ],
      "id": "cd05a92b",
      "execution_count": null,
      "outputs": []
    },
    {
      "cell_type": "markdown",
      "metadata": {
        "id": "fe4639fa"
      },
      "source": [
        "## Kraftverhältnisse\n",
        "### Vorspannkraftverlust infolge Setzens 𝑭_z"
      ],
      "id": "fe4639fa"
    },
    {
      "cell_type": "code",
      "metadata": {
        "id": "63b60858",
        "colab": {
          "base_uri": "https://localhost:8080/"
        },
        "outputId": "1b48f419-b6dc-4d7b-ed4f-4aea8f59f5ec"
      },
      "source": [
        "fz=(3+2.5+2*1.5)*10**-3     # in mm\n",
        "Fz=fz/(delta_s+delta_p)\n",
        "print(f'Fz={Fz} N')"
      ],
      "id": "63b60858",
      "execution_count": null,
      "outputs": [
        {
          "output_type": "stream",
          "name": "stdout",
          "text": [
            "Fz=5682.1918342884865 N\n"
          ]
        }
      ]
    },
    {
      "cell_type": "markdown",
      "metadata": {
        "id": "203fd344"
      },
      "source": [
        "### Nachgiebigkeitsverhältnis"
      ],
      "id": "203fd344"
    },
    {
      "cell_type": "code",
      "metadata": {
        "id": "81bf6428",
        "colab": {
          "base_uri": "https://localhost:8080/"
        },
        "outputId": "835c0587-8199-44f1-f541-270c05d7cf26"
      },
      "source": [
        "phi=delta_p/(delta_s+delta_p)\n",
        "print(f'phi={phi}')"
      ],
      "id": "81bf6428",
      "execution_count": null,
      "outputs": [
        {
          "output_type": "stream",
          "name": "stdout",
          "text": [
            "phi=0.010778997768467247\n"
          ]
        }
      ]
    },
    {
      "cell_type": "markdown",
      "metadata": {
        "id": "0059e83b"
      },
      "source": [
        "### Schraubenzusatzkraft"
      ],
      "id": "0059e83b"
    },
    {
      "cell_type": "code",
      "metadata": {
        "id": "4467037c",
        "colab": {
          "base_uri": "https://localhost:8080/"
        },
        "outputId": "be038bd8-062b-4036-94db-a5a23b4f59d0"
      },
      "source": [
        "FSA=Fa*n*phi\n",
        "print(f'Fa={Fa} N')\n",
        "print(f'FSA={FSA} N')"
      ],
      "id": "4467037c",
      "execution_count": null,
      "outputs": [
        {
          "output_type": "stream",
          "name": "stdout",
          "text": [
            "Fa=2594.4951069222802 N\n",
            "FSA=8.389817090344334 N\n"
          ]
        }
      ]
    },
    {
      "cell_type": "markdown",
      "metadata": {
        "id": "0aefe08d"
      },
      "source": [
        "### Hülsenentlastungskraft"
      ],
      "id": "0aefe08d"
    },
    {
      "cell_type": "code",
      "metadata": {
        "id": "099b5e4f",
        "colab": {
          "base_uri": "https://localhost:8080/"
        },
        "outputId": "f37c536a-b519-4e56-c02f-f5eee31793cf"
      },
      "source": [
        "FPA=Fa*(1-n*phi)\n",
        "print(f'FPA={FPA} N')"
      ],
      "id": "099b5e4f",
      "execution_count": null,
      "outputs": [
        {
          "output_type": "stream",
          "name": "stdout",
          "text": [
            "FPA=2586.105289831936 N\n"
          ]
        }
      ]
    },
    {
      "cell_type": "markdown",
      "metadata": {
        "id": "b20eda8d"
      },
      "source": [
        "### Min. Montagevorspannkraft"
      ],
      "id": "b20eda8d"
    },
    {
      "cell_type": "code",
      "metadata": {
        "id": "eea243da",
        "colab": {
          "base_uri": "https://localhost:8080/"
        },
        "outputId": "927b3cc7-8adf-4d31-eb0e-fa1d92937aea"
      },
      "source": [
        "Fkerf=Fa                 # Schweizer-fn: https://www.schweizer-fn.de/maschinenelemente/schraube/schraubenverbindung.php\n",
        "FMmin=Fkerf+FPA+Fz\n",
        "print(f'Fkerf={Fkerf} N')\n",
        "print(f'FMmin={FMmin} N')"
      ],
      "id": "eea243da",
      "execution_count": null,
      "outputs": [
        {
          "output_type": "stream",
          "name": "stdout",
          "text": [
            "Fkerf=2594.4951069222802 N\n",
            "FMmin=10862.792231042702 N\n"
          ]
        }
      ]
    },
    {
      "cell_type": "markdown",
      "metadata": {
        "id": "6c05b1ef"
      },
      "source": [
        "### Vorspannkraft nach dem Setzen"
      ],
      "id": "6c05b1ef"
    },
    {
      "cell_type": "code",
      "metadata": {
        "id": "81f078a2",
        "colab": {
          "base_uri": "https://localhost:8080/"
        },
        "outputId": "5d5e1286-d660-41ff-f7a0-4aeffb03609f"
      },
      "source": [
        "Fv=FMmin-Fz\n",
        "print(f'Fv={Fv} N')"
      ],
      "id": "81f078a2",
      "execution_count": null,
      "outputs": [
        {
          "output_type": "stream",
          "name": "stdout",
          "text": [
            "Fv=5180.600396754216 N\n"
          ]
        }
      ]
    },
    {
      "cell_type": "markdown",
      "metadata": {
        "id": "510feb10"
      },
      "source": [
        "## Verspannungsdiagramm nach Rötscher\n",
        "### Schraubenlängung fsm durch FMmin"
      ],
      "id": "510feb10"
    },
    {
      "cell_type": "code",
      "metadata": {
        "id": "8182e9b7",
        "colab": {
          "base_uri": "https://localhost:8080/"
        },
        "outputId": "b5809035-51d2-40f5-9881-ae458052c7ab"
      },
      "source": [
        "fsm=delta_s*FMmin\n",
        "print(f'fsm={fsm} mm')\n",
        "print(f'FMmin={FMmin} N')"
      ],
      "id": "8182e9b7",
      "execution_count": null,
      "outputs": [
        {
          "output_type": "stream",
          "name": "stdout",
          "text": [
            "fsm=0.016074513412296557 mm\n",
            "FMmin=10862.792231042702 N\n"
          ]
        }
      ]
    },
    {
      "cell_type": "markdown",
      "metadata": {
        "id": "1449fdfc"
      },
      "source": [
        "### Plattenverkürzung fpm durch FMmin"
      ],
      "id": "1449fdfc"
    },
    {
      "cell_type": "code",
      "metadata": {
        "id": "b65c04a2",
        "colab": {
          "base_uri": "https://localhost:8080/"
        },
        "outputId": "22b15067-9cb2-4e17-ddbf-02b292c86d99"
      },
      "source": [
        "fpm=delta_p*FMmin\n",
        "print(f'fpm={fpm} mm')"
      ],
      "id": "b65c04a2",
      "execution_count": null,
      "outputs": [
        {
          "output_type": "stream",
          "name": "stdout",
          "text": [
            "fpm=0.00017515514107512576 mm\n"
          ]
        }
      ]
    },
    {
      "cell_type": "markdown",
      "metadata": {
        "id": "b9f2db27"
      },
      "source": [
        "### Schraubenlängung fs durch Fv"
      ],
      "id": "b9f2db27"
    },
    {
      "cell_type": "code",
      "metadata": {
        "id": "98b241bf",
        "colab": {
          "base_uri": "https://localhost:8080/"
        },
        "outputId": "7b1973ea-506f-4115-8c3e-c5d2a1b15dd0"
      },
      "source": [
        "fs=delta_s*Fv\n",
        "print(f'fs={fs} mm')"
      ],
      "id": "98b241bf",
      "execution_count": null,
      "outputs": [
        {
          "output_type": "stream",
          "name": "stdout",
          "text": [
            "fs=0.007666134893328527 mm\n"
          ]
        }
      ]
    },
    {
      "cell_type": "markdown",
      "metadata": {
        "id": "0975d0dd"
      },
      "source": [
        "### Plattenverkürzung fp durch Fv"
      ],
      "id": "0975d0dd"
    },
    {
      "cell_type": "code",
      "metadata": {
        "id": "7d29282d",
        "colab": {
          "base_uri": "https://localhost:8080/"
        },
        "outputId": "43496e45-7b1a-4a65-b149-68e4c2081f58"
      },
      "source": [
        "fp=delta_p*Fv\n",
        "\n",
        "print(f'fp={fp} mm')"
      ],
      "id": "7d29282d",
      "execution_count": null,
      "outputs": [
        {
          "output_type": "stream",
          "name": "stdout",
          "text": [
            "fp=8.353366004315415e-05 mm\n"
          ]
        }
      ]
    },
    {
      "cell_type": "markdown",
      "metadata": {
        "id": "9f3185b3"
      },
      "source": [
        "### Schraubenlängung dfs durch Fa"
      ],
      "id": "9f3185b3"
    },
    {
      "cell_type": "code",
      "metadata": {
        "id": "f35d8478",
        "colab": {
          "base_uri": "https://localhost:8080/"
        },
        "outputId": "887e72c4-8992-4bfe-c6d9-dcb416c48396"
      },
      "source": [
        "dfs=delta_s*FSA\n",
        "print(f'dfs={dfs}')"
      ],
      "id": "f35d8478",
      "execution_count": null,
      "outputs": [
        {
          "output_type": "stream",
          "name": "stdout",
          "text": [
            "dfs=1.2415060923291694e-05\n"
          ]
        }
      ]
    },
    {
      "cell_type": "markdown",
      "metadata": {
        "id": "c5656265"
      },
      "source": [
        "### Plattenverkürzung dfp durch Fa"
      ],
      "id": "c5656265"
    },
    {
      "cell_type": "code",
      "metadata": {
        "id": "3cb9c4f9",
        "colab": {
          "base_uri": "https://localhost:8080/"
        },
        "outputId": "d6b026fc-fe56-4a1a-bbcd-9a747ae8d772"
      },
      "source": [
        "dfp=delta_p*FPA\n",
        "print(f'dfp={dfp}')"
      ],
      "id": "3cb9c4f9",
      "execution_count": null,
      "outputs": [
        {
          "output_type": "stream",
          "name": "stdout",
          "text": [
            "dfp=4.169918997264683e-05\n"
          ]
        }
      ]
    },
    {
      "cell_type": "markdown",
      "metadata": {
        "id": "b98a5c6b"
      },
      "source": [
        "# Wirkende Montagebeanspruchung\n",
        "## Maximale Montagevorspannkraft"
      ],
      "id": "b98a5c6b"
    },
    {
      "cell_type": "code",
      "metadata": {
        "id": "50b16825",
        "colab": {
          "base_uri": "https://localhost:8080/"
        },
        "outputId": "d3404cbb-1f2e-41b7-d414-f79d0672c804"
      },
      "source": [
        "alpha_A=1.6        # Steifes Bauteil, wenige Versuche, Skript Seite 342 Tabelle 8.4\n",
        "FMmax=alpha_A*FMmin\n",
        "print(f'FMmax={FMmax} N')"
      ],
      "id": "50b16825",
      "execution_count": null,
      "outputs": [
        {
          "output_type": "stream",
          "name": "stdout",
          "text": [
            "FMmax=17380.467569668323 N\n"
          ]
        }
      ]
    },
    {
      "cell_type": "markdown",
      "metadata": {
        "id": "406b4d80"
      },
      "source": [
        "## Max. Vorspannkraft und Vergleichsspannung\n",
        "### Zugspannung"
      ],
      "id": "406b4d80"
    },
    {
      "cell_type": "code",
      "metadata": {
        "id": "86b8a98a",
        "colab": {
          "base_uri": "https://localhost:8080/"
        },
        "outputId": "1cf4e9ae-be7e-42ff-c1ec-ec02edffc8f6"
      },
      "source": [
        "sigma_zM=FMmax/As\n",
        "print(f'Zugspannung sigma_zM={sigma_zM} MPa')"
      ],
      "id": "86b8a98a",
      "execution_count": null,
      "outputs": [
        {
          "output_type": "stream",
          "name": "stdout",
          "text": [
            "Zugspannung sigma_zM=206.26225475988903 MPa\n"
          ]
        }
      ]
    },
    {
      "cell_type": "markdown",
      "metadata": {
        "id": "43957514"
      },
      "source": [
        "### Torsionsspannung"
      ],
      "id": "43957514"
    },
    {
      "cell_type": "code",
      "metadata": {
        "id": "d3cc9352",
        "colab": {
          "base_uri": "https://localhost:8080/"
        },
        "outputId": "8c1b4789-9712-4b2b-961e-00b1c4303f01"
      },
      "source": [
        "my_g=0.12      #Reibungszahl im Gewinde\n",
        "ds=2*np.sqrt(As/np.pi)\n",
        "MG=FMmax*d2/2*(P/(np.pi*d2)+1.155*my_g)\n",
        "Wp=np.pi*ds**3\n",
        "tau_M=MG/Wp\n",
        "print(f'Torsionsspannung tau_M={tau_M} MPa')"
      ],
      "id": "d3cc9352",
      "execution_count": null,
      "outputs": [
        {
          "output_type": "stream",
          "name": "stdout",
          "text": [
            "Torsionsspannung tau_M=5.134288540562868 MPa\n"
          ]
        }
      ]
    },
    {
      "cell_type": "markdown",
      "metadata": {
        "id": "cd106653"
      },
      "source": [
        "### Gestaltänderungsenergiehypothese"
      ],
      "id": "cd106653"
    },
    {
      "cell_type": "code",
      "metadata": {
        "id": "cc9363e3",
        "colab": {
          "base_uri": "https://localhost:8080/"
        },
        "outputId": "dd7ea4e5-35e0-489b-cf3f-3bbff51336d8"
      },
      "source": [
        "sigma_vM=np.sqrt(sigma_zM**2+3*tau_M**2)\n",
        "print(f'Vergleichsspannung nach GEH: sigma_vM={sigma_vM} MPa')"
      ],
      "id": "cc9363e3",
      "execution_count": null,
      "outputs": [
        {
          "output_type": "stream",
          "name": "stdout",
          "text": [
            "Vergleichsspannung nach GEH: sigma_vM=206.45387013831112 MPa\n"
          ]
        }
      ]
    },
    {
      "cell_type": "markdown",
      "metadata": {
        "id": "fad6e626"
      },
      "source": [
        "# Zulässige Montagebeanspruchung\n",
        "## Zulässige Zugspannung"
      ],
      "id": "fad6e626"
    },
    {
      "cell_type": "code",
      "metadata": {
        "id": "6a21fa2c",
        "colab": {
          "base_uri": "https://localhost:8080/"
        },
        "outputId": "78ca6691-8cc6-4172-8d75-69df43a02c8e"
      },
      "source": [
        "ny=0.9          # In Norm wird 0.9 verwendet\n",
        "sigma_vzul=ny*Rp02S\n",
        "if sigma_vM<sigma_vzul/Smin:\n",
        "    print('Die Schraube erträgt die Montagebeanspruchung unter den getroffenen Annahmen!')\n",
        "else:\n",
        "    print('Bitte Schraube neu auslegen!!!')\n",
        "\n",
        "print(sigma_vM/sigma_vzul)\n",
        "print(f'Sicherheit: S={sigma_vzul/sigma_vM}')"
      ],
      "id": "6a21fa2c",
      "execution_count": null,
      "outputs": [
        {
          "output_type": "stream",
          "name": "stdout",
          "text": [
            "Die Schraube erträgt die Montagebeanspruchung unter den getroffenen Annahmen!\n",
            "0.21240110096534065\n",
            "Sicherheit: S=4.708073524360774\n"
          ]
        }
      ]
    },
    {
      "cell_type": "markdown",
      "metadata": {
        "id": "9d2f135f"
      },
      "source": [
        "##  Maximal zulässige Montagevorspannkraft"
      ],
      "id": "9d2f135f"
    },
    {
      "cell_type": "code",
      "metadata": {
        "id": "33fcb2c5",
        "colab": {
          "base_uri": "https://localhost:8080/"
        },
        "outputId": "6cb74630-3ed6-4501-d15a-1faa50612226"
      },
      "source": [
        "#sigma_zzul=sigma_vzul/(Smin*np.sqrt(1+3*(2*d2/d1_min*(P/(np.pi*d2)+1.155*my_g))**2))\n",
        "sigma_zzul=Rp02S/(Smin*np.sqrt(1+3*(2*d2/d1_min*(P/(np.pi*d2)+1.155*my_g))**2))\n",
        "FMzul=sigma_zzul*As\n",
        "if FMmax<FMzul:\n",
        "    print('Die Schraube erträgt die Montagebeanspruchung unter den getroffenen Annahmen!')\n",
        "else:\n",
        "    print('Bitte Schraube neu auslegen!!!')\n",
        "print(FMmax/FMzul)\n",
        "print(f'Sicherheit: S={(FMzul*Smin)/FMmax}')"
      ],
      "id": "33fcb2c5",
      "execution_count": null,
      "outputs": [
        {
          "output_type": "stream",
          "name": "stdout",
          "text": [
            "Die Schraube erträgt die Montagebeanspruchung unter den getroffenen Annahmen!\n",
            "0.9522391160703874\n",
            "Sicherheit: S=4.200625591297731\n"
          ]
        }
      ]
    },
    {
      "cell_type": "markdown",
      "metadata": {
        "id": "b809792a"
      },
      "source": [
        "# Wirkende Betriebsbeanspruchungen\n",
        "## Max. Schraubenkraft und Vergleichsspannung"
      ],
      "id": "b809792a"
    },
    {
      "cell_type": "code",
      "metadata": {
        "id": "61c27dce",
        "colab": {
          "base_uri": "https://localhost:8080/"
        },
        "outputId": "cb34489b-012e-46f5-a831-22cde780cbc9"
      },
      "source": [
        "kappa_tau=0.5\n",
        "FSmax=FMmax+FSA\n",
        "sigma_B=FSmax/As\n",
        "tau_B=kappa_tau*MG/Wp\n",
        "sigma_vB=np.sqrt(sigma_B**2+3*tau_B**2)\n",
        "print(f'sigma_vB={sigma_vB} MPa')"
      ],
      "id": "61c27dce",
      "execution_count": null,
      "outputs": [
        {
          "output_type": "stream",
          "name": "stdout",
          "text": [
            "sigma_vB=206.40971811341512 MPa\n"
          ]
        }
      ]
    },
    {
      "cell_type": "markdown",
      "metadata": {
        "id": "b57948ae"
      },
      "source": [
        "# Zulässige Betriebsbeanspruchungen"
      ],
      "id": "b57948ae"
    },
    {
      "cell_type": "code",
      "metadata": {
        "id": "f252528d",
        "colab": {
          "base_uri": "https://localhost:8080/"
        },
        "outputId": "3cacfda9-6dfa-4430-edbc-93f858d207fe"
      },
      "source": [
        "if sigma_vB<Rp02S/Smin:\n",
        "    print('Die Schraube erträgt die angenommene Betriebsbeanspruchung')\n",
        "print(f'Sicherheit S={Rp02S/sigma_vB}')"
      ],
      "id": "f252528d",
      "execution_count": null,
      "outputs": [
        {
          "output_type": "stream",
          "name": "stdout",
          "text": [
            "Die Schraube erträgt die angenommene Betriebsbeanspruchung\n",
            "Sicherheit S=5.2323117819800355\n"
          ]
        }
      ]
    }
  ]
}